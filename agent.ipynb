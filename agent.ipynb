{
 "cells": [
  {
   "cell_type": "code",
   "execution_count": 12,
   "id": "926ae1e7-86f9-4fa5-a3e6-49b03062e108",
   "metadata": {},
   "outputs": [],
   "source": [
    "import getpass\n",
    "import os\n",
    "\n",
    "# Set Google API key\n",
    "if not os.environ.get(\"GOOGLE_API_KEY\"):\n",
    "    os.environ[\"GOOGLE_API_KEY\"] = getpass.getpass(\"Enter API key for Google Gemini: \")\n",
    "\n",
    "# Set Tavily API key\n",
    "if not os.environ.get(\"TAVILY_API_KEY\"):\n",
    "    os.environ[\"TAVILY_API_KEY\"] = getpass.getpass(\"Enter API key for Tavily: \")\n",
    "\n",
    "# Import relevant functionality\n",
    "from langchain.chat_models import init_chat_model\n",
    "from langchain_tavily import TavilySearch\n",
    "from langgraph.checkpoint.memory import MemorySaver\n",
    "from langgraph.prebuilt import create_react_agent\n",
    "\n",
    "# Create the agent\n",
    "memory = MemorySaver()\n",
    "model = init_chat_model(\"gemini-2.0-flash\", model_provider=\"google-genai\")  # Corrected model and provider\n",
    "search = TavilySearch(max_results=2)\n",
    "tools = [search]\n",
    "agent_executor = create_react_agent(model, tools, checkpointer=memory)\n"
   ]
  },
  {
   "cell_type": "code",
   "execution_count": 14,
   "id": "bb07f725-416c-4076-9c1c-e6881b558ecf",
   "metadata": {},
   "outputs": [
    {
     "name": "stdout",
     "output_type": "stream",
     "text": [
      "================================\u001b[1m Human Message \u001b[0m=================================\n",
      "\n",
      "What nation hosted the Euro 2024? Include only wikipedia sources.\n",
      "==================================\u001b[1m Ai Message \u001b[0m==================================\n",
      "Tool Calls:\n",
      "  tavily_search (84c7fe9b-b448-401e-abcb-5332b67242a8)\n",
      " Call ID: 84c7fe9b-b448-401e-abcb-5332b67242a8\n",
      "  Args:\n",
      "    query: What nation hosted the Euro 2024?\n",
      "    include_domains: ['wikipedia.org']\n",
      "=================================\u001b[1m Tool Message \u001b[0m=================================\n",
      "Name: tavily_search\n",
      "\n",
      "{\"query\": \"What nation hosted the Euro 2024?\", \"follow_up_questions\": null, \"answer\": null, \"images\": [], \"results\": [{\"title\": \"UEFA Euro 2024 - Wikipedia\", \"url\": \"https://en.wikipedia.org/wiki/UEFA_Euro_2024\", \"content\": \"It was the third time that European Championship matches were played on German territory, and the second time in reunified Germany, as West Germany hosted the 1988 tournament, and four matches of the multi-national Euro 2020 were played in Munich. Munich, the site of the first game of UEFA Euro 2024, was also a host city at the multi-national UEFA Euro 2020 tournament, hosting four matches (three involving Germany) in front of a greatly reduced number of spectators due to COVID-19 restrictions. UEFA announced the tournament schedule on 10 May 2022, which included kick-off times only for the opening match, semi-finals, and final. On 20 July 2024, after an open vote on the official Euro 2024 website, UEFA announced that Turkish defender Mert Müldür's group stage goal against Georgia had been chosen as the fans' goal of the tournament.\", \"score\": 0.85509074, \"raw_content\": null}, {\"title\": \"Category:Countries at UEFA Euro 2024 - Wikipedia\", \"url\": \"https://en.wikipedia.org/wiki/Category:Countries_at_UEFA_Euro_2024\", \"content\": \"Category: Countries at UEFA Euro 2024. 6 languages. ... Czech Republic at UEFA Euro 2024 (3 P) D. Denmark at UEFA Euro 2024 (4 P) E. England at UEFA Euro 2024 (5 P) F. France at UEFA Euro 2024 (6 P) G. Georgia at UEFA Euro 2024 (5 P) Germany at UEFA Euro 2024 (4 P) H.\", \"score\": 0.7746691, \"raw_content\": null}, {\"title\": \"UEFA Euro 2024 - Simple English Wikipedia, the free encyclopedia\", \"url\": \"https://simple.wikipedia.org/wiki/UEFA_Euro_2024\", \"content\": \"| Image 4 | Many other stadiums, such as those in Bremen and Mönchengladbach were not selected.( The venues covered all the main regions of Germany, but the area with the highest number of venues at UEFA Euro 2024 is the Rhine-Ruhr metropolitan region\\\") in the state of North Rhine-Westphalia, with four of the 10 host cities (Dortmund, Düsseldorf, Gelsenkirchen and Cologne).( | Stuttgart | Image 21: UEFA Euro 2024 is located in Germany Image 22: Leipzig Berlin Image 23: Leipzig Munich Image 24: Leipzig Dortmund Image 25: Leipzig Gelsenkirchen Image 26: Leipzig Stuttgart Image 27: Leipzig Hamburg Image 28: Leipzig Düsseldorf Image 29: Leipzig Cologne Image 30: Leipzig Frankfurt Image 31: Leipzig Leipzig | Hamburg | 4.   ↑\\\"Germany and Turkey officially interested in hosting UEFA EURO 2024\\\". 5.   ↑\\\"Germany to host UEFA EURO 2024\\\".\", \"score\": 0.75464433, \"raw_content\": null}, {\"title\": \"Eurovision Song Contest 2024 - Wikipedia\", \"url\": \"https://en.wikipedia.org/wiki/Eurovision_Song_Contest_2024\", \"content\": \"| | Winning song | Switzerland \\\"The Code\\\" | | 2023 ←Eurovision Song Contest→ 2025 | The Eurovision Song Contest 2024 was the 68th edition of the Eurovision Song Contest. It took place in Malmö, Sweden, following the country's victory at the 2023 contest with the song \\\"Tattoo\\\" by Loreen. Organised by the European Broadcasting Union (EBU) and host broadcaster Sveriges Television (SVT), the contest was held at the Malmö Arena, and consisted of two semi-finals, on 7 and 9 May, and a final on 11 May 2024. Broadcasters from thirty-seven countries participated in the contest, the same number as in 2023.\", \"score\": 0.6437107, \"raw_content\": null}, {\"title\": \"UEFA Euro 2024 bids - Wikipedia\", \"url\": \"https://en.wikipedia.org/wiki/UEFA_Euro_2024_bids\", \"content\": \"Previously, UEFA Euro 1988 had been held in West Germany, as well as the 1974 FIFA World Cup and the 2006 FIFA World Cup. German media has also reported that the DFB was willing to let Wembley Stadium host the final for UEFA Euro 2020, in return for support from The Football Association for Germany's 2024 bid.\", \"score\": 0.63939893, \"raw_content\": null}], \"response_time\": 2.94}\n",
      "==================================\u001b[1m Ai Message \u001b[0m==================================\n",
      "\n",
      "According to Wikipedia, UEFA Euro 2024 was hosted by Germany.\n"
     ]
    }
   ],
   "source": [
    "tavily_search_tool = TavilySearch(\n",
    "    max_results=5,\n",
    "    topic=\"general\",\n",
    ")\n",
    "\n",
    "agent = create_react_agent(model, [tavily_search_tool])\n",
    "\n",
    "user_input = \"What nation hosted the Euro 2024? Include only wikipedia sources.\"\n",
    "\n",
    "for step in agent.stream(\n",
    "    {\"messages\": user_input},\n",
    "    stream_mode=\"values\",\n",
    "):\n",
    "    step[\"messages\"][-1].pretty_print()"
   ]
  },
  {
   "cell_type": "code",
   "execution_count": null,
   "id": "09033890-0ecd-4f94-a51b-eca068febd7a",
   "metadata": {},
   "outputs": [],
   "source": []
  }
 ],
 "metadata": {
  "kernelspec": {
   "display_name": "Python 3 (ipykernel)",
   "language": "python",
   "name": "python3"
  },
  "language_info": {
   "codemirror_mode": {
    "name": "ipython",
    "version": 3
   },
   "file_extension": ".py",
   "mimetype": "text/x-python",
   "name": "python",
   "nbconvert_exporter": "python",
   "pygments_lexer": "ipython3",
   "version": "3.12.3"
  }
 },
 "nbformat": 4,
 "nbformat_minor": 5
}
